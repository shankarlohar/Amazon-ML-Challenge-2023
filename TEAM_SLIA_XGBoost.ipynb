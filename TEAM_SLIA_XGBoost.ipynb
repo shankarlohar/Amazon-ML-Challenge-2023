{
 "cells": [
  {
   "cell_type": "code",
   "execution_count": 1,
   "id": "8bc84c17",
   "metadata": {},
   "outputs": [],
   "source": [
    "# Import libraries\n",
    "import pandas as pd\n",
    "import numpy as np\n",
    "import re\n",
    "from sklearn.feature_extraction.text import CountVectorizer\n",
    "from sklearn.preprocessing import LabelEncoder\n",
    "from sklearn.model_selection import train_test_split\n",
    "import xgboost as xgb\n",
    "from sklearn.metrics import mean_absolute_percentage_error"
   ]
  },
  {
   "cell_type": "code",
   "execution_count": 2,
   "id": "2e1da8de",
   "metadata": {},
   "outputs": [],
   "source": [
    "# Load data\n",
    "train = pd.read_csv('train.csv')\n",
    "test = pd.read_csv('test.csv')"
   ]
  },
  {
   "cell_type": "code",
   "execution_count": 3,
   "id": "8d9feac3",
   "metadata": {},
   "outputs": [],
   "source": [
    "# Combine train and test data for feature engineering\n",
    "data = pd.concat([train, test], axis=0, sort=False)"
   ]
  },
  {
   "cell_type": "code",
   "execution_count": 4,
   "id": "6bb24afa",
   "metadata": {},
   "outputs": [],
   "source": [
    "# Fill any missing values in the DataFrame with empty strings\n",
    "data.fillna(\"\", inplace=True)"
   ]
  },
  {
   "cell_type": "code",
   "execution_count": 5,
   "id": "f51b17eb",
   "metadata": {},
   "outputs": [],
   "source": [
    "# Convert non-string data types to strings\n",
    "data = data.applymap(lambda x: str(x) if type(x) != str else x)"
   ]
  },
  {
   "cell_type": "code",
   "execution_count": 6,
   "id": "b71f2ddf",
   "metadata": {},
   "outputs": [],
   "source": [
    "# Feature engineering: extract text features from title, description, and bullet points columns\n",
    "data['title_len'] = data['TITLE'].apply(lambda x: len(str(x)))\n",
    "data['desc_len'] = data['DESCRIPTION'].apply(lambda x: len(str(x)))\n",
    "data['bp_len'] = data['BULLET_POINTS'].apply(lambda x: len(str(x)))\n",
    "data['num_bp'] = data['BULLET_POINTS'].apply(lambda x: len(x.split(',')))\n",
    "data['all_text'] = data['TITLE'] + ' ' + data['DESCRIPTION'] + ' ' + data['BULLET_POINTS'].fillna('')\n",
    "data['all_text'] = data['all_text'].apply(lambda x: re.sub('[^a-zA-Z0-9\\s]', '', x.lower()))"
   ]
  },
  {
   "cell_type": "code",
   "execution_count": 7,
   "id": "e0ff3cf9",
   "metadata": {},
   "outputs": [],
   "source": [
    "# Encode categorical variable\n",
    "le = LabelEncoder()\n",
    "data['PRODUCT_TYPE_ID'] = le.fit_transform(data['PRODUCT_TYPE_ID'])"
   ]
  },
  {
   "cell_type": "code",
   "execution_count": null,
   "id": "f3784350",
   "metadata": {},
   "outputs": [],
   "source": [
    "# Vectorize text data using CountVectorizer with n-grams\n",
    "cv = CountVectorizer(stop_words='english', max_features=5000, ngram_range=(1,2))\n",
    "text_feat = cv.fit_transform(data['all_text']).toarray()"
   ]
  },
  {
   "cell_type": "code",
   "execution_count": null,
   "id": "4ab19730",
   "metadata": {},
   "outputs": [],
   "source": [
    "# Combine text features with categorical variable\n",
    "feat_cols = ['title_len', 'desc_len', 'bp_len', 'num_bp', 'PRODUCT_TYPE_ID']\n",
    "X = np.hstack((text_feat, data[feat_cols].values))"
   ]
  },
  {
   "cell_type": "code",
   "execution_count": null,
   "id": "bac32a87",
   "metadata": {},
   "outputs": [],
   "source": [
    "# Split data back into train and test sets\n",
    "X_train = X[:len(train)]\n",
    "y_train = train['PRODUCT_LENGTH']\n",
    "X_test = X[len(train):]"
   ]
  },
  {
   "cell_type": "code",
   "execution_count": null,
   "id": "bb426659",
   "metadata": {},
   "outputs": [],
   "source": [
    "# Split train data into train and validation sets\n",
    "X_tr, X_val, y_tr, y_val = train_test_split(X_train, y_train, test_size=0.2, random_state=42)"
   ]
  },
  {
   "cell_type": "code",
   "execution_count": null,
   "id": "73dd993d",
   "metadata": {},
   "outputs": [],
   "source": [
    "# Train XGBoost model\n",
    "xgb_model = xgb.XGBRegressor(n_estimators=100, max_depth=6, learning_rate=0.05, random_state=42)\n",
    "xgb_model.fit(X_tr, y_tr)"
   ]
  },
  {
   "cell_type": "code",
   "execution_count": null,
   "id": "a783c346",
   "metadata": {},
   "outputs": [],
   "source": [
    "# Evaluate model on validation set\n",
    "y_val_pred = xgb_model.predict(X_val)\n",
    "score = max(0, 100 * (1 - mean_absolute_percentage_error(y_val, y_val_pred)))\n",
    "print(\"Validation score: {:.2f}\".format(score))"
   ]
  },
  {
   "cell_type": "code",
   "execution_count": null,
   "id": "33e03c5c",
   "metadata": {},
   "outputs": [],
   "source": [
    "# Predict on test set\n",
    "y_test_pred = xgb_model.predict(X_test)"
   ]
  },
  {
   "cell_type": "code",
   "execution_count": null,
   "id": "ade6ff53",
   "metadata": {},
   "outputs": [],
   "source": [
    "# Create submission file\n",
    "sub = pd.DataFrame({'PRODUCT_ID': test['PRODUCT_ID'], 'PRODUCT_LENGTH': y_test_pred})\n",
    "sub.set_index('PRODUCT_ID', inplace=True)\n",
    "sub.to_csv('submission_x.csv')"
   ]
  },
  {
   "cell_type": "code",
   "execution_count": null,
   "id": "d538fb2e",
   "metadata": {},
   "outputs": [],
   "source": []
  }
 ],
 "metadata": {
  "kernelspec": {
   "display_name": "Python 3 (ipykernel)",
   "language": "python",
   "name": "python3"
  },
  "language_info": {
   "codemirror_mode": {
    "name": "ipython",
    "version": 3
   },
   "file_extension": ".py",
   "mimetype": "text/x-python",
   "name": "python",
   "nbconvert_exporter": "python",
   "pygments_lexer": "ipython3",
   "version": "3.9.13"
  }
 },
 "nbformat": 4,
 "nbformat_minor": 5
}
