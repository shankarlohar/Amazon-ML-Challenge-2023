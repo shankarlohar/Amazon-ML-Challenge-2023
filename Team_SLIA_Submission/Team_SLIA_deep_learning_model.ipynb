{
 "cells": [
  {
   "cell_type": "code",
   "execution_count": 1,
   "id": "990e2b3d",
   "metadata": {},
   "outputs": [],
   "source": [
    "import pandas as pd\n",
    "import numpy as np\n",
    "from tensorflow.keras.layers import Input, Dense, Concatenate, Dropout, Embedding, Flatten\n",
    "from tensorflow.keras.models import Model\n",
    "from tensorflow.keras.preprocessing.text import Tokenizer\n",
    "from tensorflow.keras.preprocessing.sequence import pad_sequences\n",
    "from sklearn.model_selection import train_test_split"
   ]
  },
  {
   "cell_type": "code",
   "execution_count": 2,
   "id": "73295273",
   "metadata": {},
   "outputs": [],
   "source": [
    "# load the training data\n",
    "train_data = pd.read_csv('train.csv')"
   ]
  },
  {
   "cell_type": "code",
   "execution_count": 7,
   "id": "ab946e8d",
   "metadata": {},
   "outputs": [
    {
     "data": {
      "text/plain": [
       "PRODUCT_ID               0\n",
       "TITLE                   12\n",
       "BULLET_POINTS       837364\n",
       "DESCRIPTION        1157381\n",
       "PRODUCT_TYPE_ID          0\n",
       "PRODUCT_LENGTH           0\n",
       "dtype: int64"
      ]
     },
     "execution_count": 7,
     "metadata": {},
     "output_type": "execute_result"
    }
   ],
   "source": [
    "train_data.isnull().sum()"
   ]
  },
  {
   "cell_type": "code",
   "execution_count": 8,
   "id": "6602c3a0",
   "metadata": {},
   "outputs": [],
   "source": [
    "train_data.fillna('', inplace=True)"
   ]
  },
  {
   "cell_type": "code",
   "execution_count": 9,
   "id": "4535e6be",
   "metadata": {},
   "outputs": [],
   "source": [
    "# tokenize and embed the text data\n",
    "tokenizer = Tokenizer()\n",
    "tokenizer.fit_on_texts(train_data['TITLE'] + ' ' + train_data['DESCRIPTION'] + ' ' + train_data['BULLET_POINTS'])\n",
    "vocab_size = len(tokenizer.word_index) + 1\n",
    "max_len = 50"
   ]
  },
  {
   "cell_type": "code",
   "execution_count": 10,
   "id": "edab37af",
   "metadata": {},
   "outputs": [],
   "source": [
    "# define the input layers for the text data\n",
    "title_input = Input(shape=(max_len,))\n",
    "description_input = Input(shape=(max_len,))\n",
    "bullet_input = Input(shape=(max_len,))"
   ]
  },
  {
   "cell_type": "code",
   "execution_count": 11,
   "id": "907105e4",
   "metadata": {},
   "outputs": [],
   "source": [
    "# define the embedding layers for the text data\n",
    "embedding = Embedding(vocab_size, 50)"
   ]
  },
  {
   "cell_type": "code",
   "execution_count": 12,
   "id": "10a8feb1",
   "metadata": {},
   "outputs": [],
   "source": [
    "# embed the text data\n",
    "title_embed = embedding(title_input)\n",
    "description_embed = embedding(description_input)\n",
    "bullet_embed = embedding(bullet_input)"
   ]
  },
  {
   "cell_type": "code",
   "execution_count": 13,
   "id": "72d33a96",
   "metadata": {},
   "outputs": [],
   "source": [
    "# flatten the embedded data\n",
    "title_flatten = Flatten()(title_embed)\n",
    "description_flatten = Flatten()(description_embed)\n",
    "bullet_flatten = Flatten()(bullet_embed)"
   ]
  },
  {
   "cell_type": "code",
   "execution_count": 14,
   "id": "f9b1d3e5",
   "metadata": {},
   "outputs": [],
   "source": [
    "# define the input layer for the numerical data\n",
    "numerical_input = Input(shape=(1,))"
   ]
  },
  {
   "cell_type": "code",
   "execution_count": 15,
   "id": "9fe5aa28",
   "metadata": {},
   "outputs": [],
   "source": [
    "# concatenate the embedded and numerical data\n",
    "concatenated = Concatenate()([title_flatten, description_flatten, bullet_flatten, numerical_input])"
   ]
  },
  {
   "cell_type": "code",
   "execution_count": 17,
   "id": "85e0dd5c",
   "metadata": {},
   "outputs": [],
   "source": [
    "# define the fully connected layers\n",
    "fc1 = Dense(128, activation='relu')(concatenated)\n",
    "dropout1 = Dropout(0.2)(fc1)\n",
    "fc2 = Dense(64, activation='relu')(dropout1)\n",
    "dropout2 = Dropout(0.2)(fc2)\n",
    "output = Dense(1, activation='linear')(dropout2)"
   ]
  },
  {
   "cell_type": "code",
   "execution_count": 18,
   "id": "03481afe",
   "metadata": {},
   "outputs": [],
   "source": [
    "# create the model\n",
    "model = Model(inputs=[title_input, description_input, bullet_input, numerical_input], outputs=output)\n",
    "model.compile(loss='mean_absolute_percentage_error', optimizer='adam')"
   ]
  },
  {
   "cell_type": "code",
   "execution_count": 19,
   "id": "61ede1f6",
   "metadata": {},
   "outputs": [],
   "source": [
    "# split the data into training and validation sets\n",
    "train_set, val_set = train_test_split(train_data, test_size=0.2, random_state=42)"
   ]
  },
  {
   "cell_type": "code",
   "execution_count": 20,
   "id": "d41ca48c",
   "metadata": {},
   "outputs": [],
   "source": [
    "# preprocess the text data for the training and validation sets\n",
    "train_title = tokenizer.texts_to_sequences(train_set['TITLE'])\n",
    "train_description = tokenizer.texts_to_sequences(train_set['DESCRIPTION'])\n",
    "train_bullet = tokenizer.texts_to_sequences(train_set['BULLET_POINTS'])\n",
    "train_title = pad_sequences(train_title, maxlen=max_len, padding='post')\n",
    "train_description = pad_sequences(train_description, maxlen=max_len, padding='post')\n",
    "train_bullet = pad_sequences(train_bullet, maxlen=max_len, padding='post')"
   ]
  },
  {
   "cell_type": "code",
   "execution_count": 21,
   "id": "2b0d8225",
   "metadata": {},
   "outputs": [],
   "source": [
    "val_title = tokenizer.texts_to_sequences(val_set['TITLE'])\n",
    "val_description = tokenizer.texts_to_sequences(val_set['DESCRIPTION'])\n",
    "val_bullet = tokenizer.texts_to_sequences(val_set['BULLET_POINTS'])\n",
    "val_title = pad_sequences(val_title, maxlen=max_len, padding='post')\n",
    "val_description = pad_sequences(val_description, maxlen=max_len, padding='post')\n",
    "val_bullet = pad_sequences(val_bullet, maxlen=max_len, padding='post')"
   ]
  },
  {
   "cell_type": "code",
   "execution_count": 22,
   "id": "78b3479f",
   "metadata": {},
   "outputs": [
    {
     "name": "stdout",
     "output_type": "stream",
     "text": [
      "Epoch 1/5\n",
      "14061/14061 [==============================] - 16215s 1s/step - loss: 79.0546 - val_loss: 68.6328\n",
      "Epoch 2/5\n",
      "14061/14061 [==============================] - 15189s 1s/step - loss: 64.6376 - val_loss: 65.6656\n",
      "Epoch 3/5\n",
      "14061/14061 [==============================] - 15175s 1s/step - loss: 59.2667 - val_loss: 64.4538\n",
      "Epoch 4/5\n",
      "14061/14061 [==============================] - 16390s 1s/step - loss: 55.6577 - val_loss: 64.8797\n",
      "Epoch 5/5\n",
      "14061/14061 [==============================] - 16867s 1s/step - loss: 53.0430 - val_loss: 62.9341\n"
     ]
    },
    {
     "data": {
      "text/plain": [
       "<keras.callbacks.History at 0x2597d107730>"
      ]
     },
     "execution_count": 22,
     "metadata": {},
     "output_type": "execute_result"
    }
   ],
   "source": [
    "# train the model\n",
    "model.fit([train_title, train_description, train_bullet, train_set['PRODUCT_TYPE_ID']], train_set['PRODUCT_LENGTH'], \n",
    "          validation_data=([val_title, val_description, val_bullet, val_set['PRODUCT_TYPE_ID']], val_set['PRODUCT_LENGTH']), epochs=5, batch_size=128)"
   ]
  },
  {
   "cell_type": "code",
   "execution_count": 23,
   "id": "bfc07b3c",
   "metadata": {},
   "outputs": [],
   "source": [
    "# load the test data\n",
    "test_data = pd.read_csv('test.csv')"
   ]
  },
  {
   "cell_type": "code",
   "execution_count": 25,
   "id": "bd6ff719",
   "metadata": {},
   "outputs": [],
   "source": [
    "test_data.fillna('', inplace=True)"
   ]
  },
  {
   "cell_type": "code",
   "execution_count": 26,
   "id": "4d288cbb",
   "metadata": {},
   "outputs": [],
   "source": [
    "# preprocess the text data for the test set\n",
    "test_title = tokenizer.texts_to_sequences(test_data['TITLE'])\n",
    "test_description = tokenizer.texts_to_sequences(test_data['DESCRIPTION'])\n",
    "test_bullet = tokenizer.texts_to_sequences(test_data['BULLET_POINTS'])\n",
    "test_title = pad_sequences(test_title, maxlen=max_len, padding='post')\n",
    "test_description = pad_sequences(test_description, maxlen=max_len, padding='post')\n",
    "test_bullet = pad_sequences(test_bullet, maxlen=max_len, padding='post')"
   ]
  },
  {
   "cell_type": "code",
   "execution_count": 27,
   "id": "ee0815ed",
   "metadata": {},
   "outputs": [
    {
     "name": "stdout",
     "output_type": "stream",
     "text": [
      "22961/22961 [==============================] - 113s 5ms/step\n"
     ]
    }
   ],
   "source": [
    "# predict the length of the products in the test set\n",
    "predictions = model.predict([test_title, test_description, test_bullet, test_data['PRODUCT_TYPE_ID']])"
   ]
  },
  {
   "cell_type": "code",
   "execution_count": 29,
   "id": "acbec49e",
   "metadata": {},
   "outputs": [],
   "source": [
    "# create the submission file\n",
    "submission = pd.read_csv('sample_submission.csv')\n",
    "submission['PRODUCT_LENGTH'] = predictions\n",
    "submission.to_csv('submission_dlm1.csv', index=False)"
   ]
  },
  {
   "cell_type": "code",
   "execution_count": null,
   "id": "b25a497c",
   "metadata": {},
   "outputs": [],
   "source": []
  }
 ],
 "metadata": {
  "kernelspec": {
   "display_name": "Python 3 (ipykernel)",
   "language": "python",
   "name": "python3"
  },
  "language_info": {
   "codemirror_mode": {
    "name": "ipython",
    "version": 3
   },
   "file_extension": ".py",
   "mimetype": "text/x-python",
   "name": "python",
   "nbconvert_exporter": "python",
   "pygments_lexer": "ipython3",
   "version": "3.9.13"
  }
 },
 "nbformat": 4,
 "nbformat_minor": 5
}
